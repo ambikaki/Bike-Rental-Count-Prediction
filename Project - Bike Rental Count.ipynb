{
 "cells": [
  {
   "cell_type": "code",
   "execution_count": null,
   "metadata": {},
   "outputs": [],
   "source": [
    "#importing required libraries\n",
    "import os\n",
    "import pandas as pd\n",
    "import numpy as np  \n",
    "import matplotlib.pyplot as plt\n",
    "from scipy.stats import chi2_contingency\n",
    "import seaborn as sns\n",
    "import datetime as dt\n",
    "from sklearn.model_selection import train_test_split\n",
    "from sklearn.tree import DecisionTreeRegressor\n",
    "from sklearn.ensemble import RandomForestRegressor\n",
    "from  matplotlib import pyplot\n",
    "%matplotlib inline"
   ]
  },
  {
   "cell_type": "code",
   "execution_count": null,
   "metadata": {},
   "outputs": [],
   "source": [
    "#set working directory\n",
    "os.chdir(\"C:/Users/Shriyan/Desktop\")"
   ]
  },
  {
   "cell_type": "code",
   "execution_count": null,
   "metadata": {},
   "outputs": [],
   "source": [
    "data_train = pd.read_csv(\"day.csv\")"
   ]
  },
  {
   "cell_type": "code",
   "execution_count": null,
   "metadata": {},
   "outputs": [],
   "source": [
    "data_train.head()"
   ]
  },
  {
   "cell_type": "code",
   "execution_count": null,
   "metadata": {},
   "outputs": [],
   "source": [
    "#check the dimension of the data\n",
    "data_train.shape"
   ]
  },
  {
   "cell_type": "code",
   "execution_count": null,
   "metadata": {},
   "outputs": [],
   "source": [
    "#check the descriptive stats\n",
    "data_train.describe()"
   ]
  },
  {
   "cell_type": "code",
   "execution_count": null,
   "metadata": {},
   "outputs": [],
   "source": [
    "#getting the information of the data\n",
    "data_train.info()"
   ]
  },
  {
   "cell_type": "code",
   "execution_count": null,
   "metadata": {},
   "outputs": [],
   "source": [
    "#checking the data types\n",
    "data_train.dtypes"
   ]
  },
  {
   "cell_type": "markdown",
   "metadata": {},
   "source": [
    "# Exploratory Data Analysis"
   ]
  },
  {
   "cell_type": "code",
   "execution_count": null,
   "metadata": {},
   "outputs": [],
   "source": [
    "#converting the data types\n",
    "data_train['season']= data_train['season'].astype('category')\n",
    "data_train['yr']=data_train['yr'].astype('category')\n",
    "data_train['mnth']=data_train['mnth'].astype('category')\n",
    "data_train['holiday']=data_train['holiday'].astype('category')\n",
    "data_train['workingday']=data_train['workingday'].astype('category')\n",
    "data_train['weekday']=data_train['weekday'].astype('category')\n",
    "data_train['weathersit']=data_train['weathersit'].astype('category')\n",
    "\n",
    "#converting the dteday to date time\n",
    "data_train[\"dteday\"] = pd.to_datetime(data_train[\"dteday\"],format= \"%Y-%m-%d\")"
   ]
  },
  {
   "cell_type": "code",
   "execution_count": null,
   "metadata": {},
   "outputs": [],
   "source": [
    "data_train.dtypes"
   ]
  },
  {
   "cell_type": "code",
   "execution_count": null,
   "metadata": {},
   "outputs": [],
   "source": [
    "#Missing value analysis\n",
    "data_train.isnull().sum()  # there are no missing values"
   ]
  },
  {
   "cell_type": "code",
   "execution_count": null,
   "metadata": {},
   "outputs": [],
   "source": [
    "#check the distribution of count\n",
    "sns.distplot(data_train['cnt'])"
   ]
  },
  {
   "cell_type": "code",
   "execution_count": null,
   "metadata": {},
   "outputs": [],
   "source": [
    "#Check the distribution of numerical data using histogram\n",
    "sns.distplot(data_train['atemp'])"
   ]
  },
  {
   "cell_type": "code",
   "execution_count": null,
   "metadata": {},
   "outputs": [],
   "source": [
    "sns.distplot(data_train['temp'])"
   ]
  },
  {
   "cell_type": "code",
   "execution_count": null,
   "metadata": {},
   "outputs": [],
   "source": [
    "sns.distplot(data_train['hum'])"
   ]
  },
  {
   "cell_type": "code",
   "execution_count": null,
   "metadata": {},
   "outputs": [],
   "source": [
    "sns.distplot(data_train['windspeed'])"
   ]
  },
  {
   "cell_type": "markdown",
   "metadata": {},
   "source": [
    "# Outlier Analysis"
   ]
  },
  {
   "cell_type": "code",
   "execution_count": null,
   "metadata": {},
   "outputs": [],
   "source": [
    "#Outlier Analysis\n",
    "sns.boxplot(data=data_train[['atemp','temp','windspeed','hum']])\n",
    "fig=plt.gcf()\n",
    "fig.set_size_inches(8,8)"
   ]
  },
  {
   "cell_type": "code",
   "execution_count": null,
   "metadata": {},
   "outputs": [],
   "source": [
    "#Remove outliers in Humidity\n",
    "q75, q25 = np.percentile(data_train['hum'], [75 ,25])\n",
    "print(q75,q25)\n",
    "iqr = q75 - q25\n",
    "print(iqr)\n",
    "min = q25 - (iqr*1.5)\n",
    "max = q75 + (iqr*1.5)\n",
    "print(min)\n",
    "print(max)\n",
    "\n",
    "data_train = data_train.drop(data_train[data_train.iloc[:,11] < min].index)\n",
    "data_train = data_train.drop(data_train[data_train.iloc[:,11] > max].index)"
   ]
  },
  {
   "cell_type": "code",
   "execution_count": null,
   "metadata": {},
   "outputs": [],
   "source": [
    "#Remove outliers in Windspeed\n",
    "q75, q25 = np.percentile(data_train['windspeed'], [75 ,25])\n",
    "print(q75,q25)\n",
    "iqr = q75 - q25\n",
    "print(iqr)\n",
    "min = q25 - (iqr*1.5)\n",
    "max = q75 + (iqr*1.5)\n",
    "print(min)\n",
    "print(max)\n",
    "\n",
    "data_train = data_train.drop(data_train[data_train.iloc[:,12] < min].index)\n",
    "data_train = data_train.drop(data_train[data_train.iloc[:,12] > max].index)"
   ]
  },
  {
   "cell_type": "markdown",
   "metadata": {},
   "source": [
    "# Correlation Analysis"
   ]
  },
  {
   "cell_type": "code",
   "execution_count": null,
   "metadata": {},
   "outputs": [],
   "source": [
    "#checking the correlation between the variables with scatter plots\n",
    "\n",
    "#relation between temperature and cnt\n",
    "sns.relplot(x = 'cnt', y = 'temp', data = data_train[:200])\n",
    "plt.ylim(0, )\n",
    "\n",
    "# the graph shows that there is high relation between count and temparature"
   ]
  },
  {
   "cell_type": "code",
   "execution_count": null,
   "metadata": {},
   "outputs": [],
   "source": [
    "#relation between atemp and cnt\n",
    "sns.relplot( x = 'cnt', y = 'atemp', data = data_train[:200])\n",
    "plt.ylim(0,)\n",
    "\n",
    "# the graph shows that there is high relation between count and atemparature"
   ]
  },
  {
   "cell_type": "code",
   "execution_count": null,
   "metadata": {},
   "outputs": [],
   "source": [
    "#relation between humidity and cnt\n",
    "sns.relplot(x = 'cnt', y = 'hum', data = data_train[:200])\n",
    "plt.ylim(0,)\n",
    "\n",
    "# the graph shows that there is relation between count and humidity"
   ]
  },
  {
   "cell_type": "code",
   "execution_count": null,
   "metadata": {},
   "outputs": [],
   "source": [
    "#relation between windspeed and cnt\n",
    "sns.relplot(x = 'cnt', y = 'windspeed', data = data_train[:200])\n",
    "plt.ylim(0,)\n",
    "\n",
    "# the graph shows that there is very low relation between count and windspeed"
   ]
  },
  {
   "cell_type": "code",
   "execution_count": null,
   "metadata": {},
   "outputs": [],
   "source": [
    "#check the relation between count and weathersit\n",
    "sns.barplot(x = 'weathersit', y = 'cnt', data = data_train[:600])\n",
    "\n",
    "# the graph shows that there is high relation between count and weathersit. the sales are very high on 1 = clear, few clody day\n",
    "#there was very low sales on 3 =light snow, light rain day and there are no sales on 4 = heavy rain, ice pallets."
   ]
  },
  {
   "cell_type": "code",
   "execution_count": null,
   "metadata": {},
   "outputs": [],
   "source": [
    "#check the relation between count and weekday\n",
    "sns.barplot(x = 'weekday', y = 'cnt', data = data_train[:200])\n",
    "\n",
    "# the graph shows that sales are pretty good on all the days. the sales doesn't depend on the weekdays."
   ]
  },
  {
   "cell_type": "code",
   "execution_count": null,
   "metadata": {},
   "outputs": [],
   "source": [
    "#check the relation between count and holiday\n",
    "sns.barplot(x = 'holiday', y = 'cnt', data = data_train[:800])\n",
    "\n",
    "# the graph shows that the more sales happened on non holiday."
   ]
  },
  {
   "cell_type": "code",
   "execution_count": null,
   "metadata": {},
   "outputs": [],
   "source": [
    "#check the relation between count and holiday\n",
    "sns.barplot(x = 'season', y = 'cnt', data = data_train[:400])\n",
    "\n",
    "# 1 = spring, 2 = summer, 3 = fall, 4 = winter\n",
    "#the graph shows that the season is highly reated to count.\n",
    "#sales were good on 3 = fall."
   ]
  },
  {
   "cell_type": "code",
   "execution_count": null,
   "metadata": {},
   "outputs": [],
   "source": [
    "#check the relation between count and workingday\n",
    "sns.barplot(x = 'workingday', y = 'cnt', data = data_train[:800])"
   ]
  },
  {
   "cell_type": "code",
   "execution_count": null,
   "metadata": {},
   "outputs": [],
   "source": [
    "#check the relation between count and year\n",
    "sns.barplot(x = 'yr', y = 'cnt', data = data_train[:400])"
   ]
  },
  {
   "cell_type": "code",
   "execution_count": null,
   "metadata": {},
   "outputs": [],
   "source": [
    "#Bike Rentals Monthly\n",
    "sales_by_month = data_train.groupby('mnth').size()\n",
    "print(sales_by_month)\n",
    "#Plotting the Graph\n",
    "plot_by_month = sales_by_month.plot(title='Monthly Sales',xticks=(1,2,3,4,5,6,7,8,9,10,11,12))\n",
    "plot_by_month.set_xlabel('Months')\n",
    "plot_by_month.set_ylabel('Total Bikes Rented')"
   ]
  },
  {
   "cell_type": "markdown",
   "metadata": {},
   "source": [
    "# Feature Engineering"
   ]
  },
  {
   "cell_type": "code",
   "execution_count": null,
   "metadata": {},
   "outputs": [],
   "source": [
    "#checking the multicollinearity between the variables\n",
    "\n",
    "#Feature selection on the basis of various features like correlation, multicollinearity.\n",
    "\n",
    "#Correlation Plot\n",
    "cnames = [\"dteday\",\"yr\",\"mnth\",\"workingday\",\"weekday\",\"weathersit\",\"temp\",\"atemp\",\"hum\",\"windspeed\", 'season']\n",
    "df_corr = data_train.loc[:,cnames]\n",
    "\n",
    "#Set the width and hieght of the plot\n",
    "f, ax = plt.subplots(figsize=(7, 5))\n",
    "\n",
    "#Generate correlation matrix\n",
    "corr = df_corr.corr()\n",
    "\n",
    "#Plot using seaborn library\n",
    "sns.heatmap(corr, mask=np.zeros_like(corr, dtype=np.bool), cmap=sns.diverging_palette(220, 10, as_cmap=True),\n",
    "            square=True, ax=ax)\n",
    "\n",
    "#the heatmap shows that there is multicollinearity between temp and atemp. so we can drop atemp variable"
   ]
  },
  {
   "cell_type": "code",
   "execution_count": null,
   "metadata": {},
   "outputs": [],
   "source": [
    "#remove the variables which are duplicate and do not give value to the model\n",
    "data_train = data_train.drop(['instant', 'dteday', 'atemp', 'casual', 'registered'], axis = 1)\n",
    "\n",
    "#casual and registered are the result of count, the sum of these two are the count. so we are dropping those two variable,\n",
    "#because that's the target variable."
   ]
  },
  {
   "cell_type": "code",
   "execution_count": null,
   "metadata": {},
   "outputs": [],
   "source": [
    "data_train.head()"
   ]
  },
  {
   "cell_type": "markdown",
   "metadata": {},
   "source": [
    "# Model Development"
   ]
  },
  {
   "cell_type": "code",
   "execution_count": null,
   "metadata": {},
   "outputs": [],
   "source": [
    "#split data into train and test randomly\n",
    "from sklearn.linear_model import LinearRegression\n",
    "train, test = train_test_split(data_train, test_size = 0.3)"
   ]
  },
  {
   "cell_type": "code",
   "execution_count": null,
   "metadata": {},
   "outputs": [],
   "source": [
    "######     Linear Regression    #######\n",
    "\n",
    "lm = LinearRegression()\n",
    "lm.fit(train.iloc[:,0:10], train.iloc[:,10])\n",
    "predictions_lm = lm.predict(test.iloc[:,0:10])\n",
    "\n",
    "# Error = 11.29%\n",
    "# Accuracy = 88.71%\n",
    "# R Sq = 0.8116\n",
    "# Corr = 0.9009"
   ]
  },
  {
   "cell_type": "code",
   "execution_count": null,
   "metadata": {},
   "outputs": [],
   "source": [
    "#Calculate MAPE\n",
    "\n",
    "def MAPE(y_true, y_pred): \n",
    "    mape = np.mean(np.abs((y_true - y_pred) / y_true))*100\n",
    "    return mape\n",
    "\n",
    "#Calculate MAPE\n",
    "\n",
    "MAPE(test.iloc[:,10], predictions_lm)"
   ]
  },
  {
   "cell_type": "code",
   "execution_count": null,
   "metadata": {},
   "outputs": [],
   "source": [
    "import math\n",
    "print('R sq: ', lm.score(train.iloc[:,0:10], train.iloc[:,10]))\n",
    "print('Correlation: ', math.sqrt(lm.score(train.iloc[:,0:10], train.iloc[:,10])))"
   ]
  },
  {
   "cell_type": "code",
   "execution_count": null,
   "metadata": {},
   "outputs": [],
   "source": [
    "##########    Decision tree    ########\n",
    "\n",
    "fit_DT = DecisionTreeRegressor(max_depth=2).fit(train.iloc[:,0:10], train.iloc[:,10])\n",
    "predictions_DT = fit_DT.predict(test.iloc[:,0:10])\n",
    "\n",
    "# Error = 17.40%\n",
    "# Accuracy = 82.60%"
   ]
  },
  {
   "cell_type": "code",
   "execution_count": null,
   "metadata": {},
   "outputs": [],
   "source": [
    "#Calculate MAPE\n",
    "\n",
    "MAPE(test.iloc[:,10], predictions_DT)"
   ]
  },
  {
   "cell_type": "code",
   "execution_count": null,
   "metadata": {},
   "outputs": [],
   "source": [
    "#######    Random forest    #######\n",
    "\n",
    "RFmodel = RandomForestRegressor(n_estimators = 200).fit(train.iloc[:,0:10], train.iloc[:,10])\n",
    "RF_predictions = RFmodel.predict(test.iloc[:,0:10])\n",
    "\n",
    "# Error = 11.16%\n",
    "# Accuracy = 88.84%"
   ]
  },
  {
   "cell_type": "code",
   "execution_count": null,
   "metadata": {},
   "outputs": [],
   "source": [
    "#Calculate MAPE\n",
    "\n",
    "MAPE(test.iloc[:,10], RF_predictions)"
   ]
  },
  {
   "cell_type": "markdown",
   "metadata": {},
   "source": [
    "# Extracting Data after model evaluation"
   ]
  },
  {
   "cell_type": "code",
   "execution_count": null,
   "metadata": {},
   "outputs": [],
   "source": [
    "result=pd.DataFrame(test.iloc[:,0:11])\n",
    "result['pred_cnt'] = (RF_predictions)\n",
    "\n",
    "result.to_csv(\"Random forest output python.csv\",index=False)"
   ]
  }
 ],
 "metadata": {
  "kernelspec": {
   "display_name": "Python 3",
   "language": "python",
   "name": "python3"
  },
  "language_info": {
   "codemirror_mode": {
    "name": "ipython",
    "version": 3
   },
   "file_extension": ".py",
   "mimetype": "text/x-python",
   "name": "python",
   "nbconvert_exporter": "python",
   "pygments_lexer": "ipython3",
   "version": "3.7.3"
  }
 },
 "nbformat": 4,
 "nbformat_minor": 2
}
